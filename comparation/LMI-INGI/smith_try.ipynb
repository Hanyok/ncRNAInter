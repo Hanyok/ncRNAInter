{
 "cells": [
  {
   "cell_type": "code",
   "execution_count": 1,
   "metadata": {
    "collapsed": true
   },
   "outputs": [
    {
     "name": "stdout",
     "output_type": "stream",
     "text": [
      "ss\n"
     ]
    }
   ],
   "source": [
    "import pandas as pd\n",
    "\n",
    "print(\"ss\")"
   ]
  },
  {
   "cell_type": "code",
   "execution_count": 2,
   "outputs": [],
   "source": [
    "def fasta_reader(sequence_file):\n",
    "    lines = open(sequence_file).readlines()\n",
    "    sequence_name_row = lines[0][1:]\n",
    "    sequence = lines[1]\n",
    "    return sequence_name_row.replace(\" \", \"\").strip(), sequence.strip()"
   ],
   "metadata": {
    "collapsed": false,
    "pycharm": {
     "name": "#%%\n"
    }
   }
  },
  {
   "cell_type": "code",
   "execution_count": 8,
   "outputs": [
    {
     "data": {
      "text/plain": "                  lncrna            mirna  Unnamed: 2  \\\n0      ENST00000448179.1   hsa-miR-136-5p         NaN   \n1      ENST00000448179.1  hsa-miR-148a-3p         NaN   \n2      ENST00000448179.1  hsa-miR-148b-3p         NaN   \n3      ENST00000448179.1   hsa-miR-152-3p         NaN   \n4      ENST00000448179.1   hsa-miR-15a-5p         NaN   \n...                  ...              ...         ...   \n15350  ENST00000427022.1  hsa-miR-487b-3p         NaN   \n15351  ENST00000445938.1   hsa-miR-503-5p         NaN   \n15352  ENST00000425727.1   hsa-miR-503-5p         NaN   \n15353  ENST00000427458.1   hsa-miR-503-5p         NaN   \n15354  ENST00000441539.1   hsa-miR-503-5p         NaN   \n\n                                              lncrna_seq  lncrna_id  \\\n0      GTGCTCACACGCAGCTGGCAATGGCAAGTCAGTGGATTTAGGATAA...         -1   \n1      GTGCTCACACGCAGCTGGCAATGGCAAGTCAGTGGATTTAGGATAA...         -1   \n2      GTGCTCACACGCAGCTGGCAATGGCAAGTCAGTGGATTTAGGATAA...         -1   \n3      GTGCTCACACGCAGCTGGCAATGGCAAGTCAGTGGATTTAGGATAA...         -1   \n4      GTGCTCACACGCAGCTGGCAATGGCAAGTCAGTGGATTTAGGATAA...         -1   \n...                                                  ...        ...   \n15350  AGCTGCTCTAGAATGTAGCAATGGTGGGCTCCTTTGGGGGCCATCT...       -375   \n15351  GGGAACAATCTCCTCGTTCCAGAAGGGCAGGGCCCGGGCAATGGTG...       -492   \n15352  CGACGCTCCTGGGGGACACAGGCACGCTGCTTTCCCTCCCAAGCCA...       -493   \n15353  ATTTCCAGAGAGACCATTAGGAACAGACTGCCTGCGCTGCTGACTT...       -499   \n15354  GGTTCACTGATACCTGTGTTATAGAACCACCATCAAGTGAAAATTG...       -500   \n\n       Unnamed: 5                mirna_seq  mirna_id  pair_index  \n0             NaN  ACUCCAUUUGUUUUGAUGAUGGA         1           0  \n1             NaN   UCAGUGCACUACAGAACUUUGU         2           1  \n2             NaN   UCAGUGCAUCACAGAACUUUGU         3           2  \n3             NaN    UCAGUGCAUGACAGAACUUGG         4           3  \n4             NaN   UAGCAGCACAUAAUGGUUUGUG         5           4  \n...           ...                      ...       ...         ...  \n15350         NaN   AAUCGUACAGGGUCAUCCACUU       260       15350  \n15351         NaN  UAGCAGCGGGAACAGUUCUGCAG       261       15351  \n15352         NaN  UAGCAGCGGGAACAGUUCUGCAG       261       15352  \n15353         NaN  UAGCAGCGGGAACAGUUCUGCAG       261       15353  \n15354         NaN  UAGCAGCGGGAACAGUUCUGCAG       261       15354  \n\n[15355 rows x 9 columns]",
      "text/html": "<div>\n<style scoped>\n    .dataframe tbody tr th:only-of-type {\n        vertical-align: middle;\n    }\n\n    .dataframe tbody tr th {\n        vertical-align: top;\n    }\n\n    .dataframe thead th {\n        text-align: right;\n    }\n</style>\n<table border=\"1\" class=\"dataframe\">\n  <thead>\n    <tr style=\"text-align: right;\">\n      <th></th>\n      <th>lncrna</th>\n      <th>mirna</th>\n      <th>Unnamed: 2</th>\n      <th>lncrna_seq</th>\n      <th>lncrna_id</th>\n      <th>Unnamed: 5</th>\n      <th>mirna_seq</th>\n      <th>mirna_id</th>\n      <th>pair_index</th>\n    </tr>\n  </thead>\n  <tbody>\n    <tr>\n      <th>0</th>\n      <td>ENST00000448179.1</td>\n      <td>hsa-miR-136-5p</td>\n      <td>NaN</td>\n      <td>GTGCTCACACGCAGCTGGCAATGGCAAGTCAGTGGATTTAGGATAA...</td>\n      <td>-1</td>\n      <td>NaN</td>\n      <td>ACUCCAUUUGUUUUGAUGAUGGA</td>\n      <td>1</td>\n      <td>0</td>\n    </tr>\n    <tr>\n      <th>1</th>\n      <td>ENST00000448179.1</td>\n      <td>hsa-miR-148a-3p</td>\n      <td>NaN</td>\n      <td>GTGCTCACACGCAGCTGGCAATGGCAAGTCAGTGGATTTAGGATAA...</td>\n      <td>-1</td>\n      <td>NaN</td>\n      <td>UCAGUGCACUACAGAACUUUGU</td>\n      <td>2</td>\n      <td>1</td>\n    </tr>\n    <tr>\n      <th>2</th>\n      <td>ENST00000448179.1</td>\n      <td>hsa-miR-148b-3p</td>\n      <td>NaN</td>\n      <td>GTGCTCACACGCAGCTGGCAATGGCAAGTCAGTGGATTTAGGATAA...</td>\n      <td>-1</td>\n      <td>NaN</td>\n      <td>UCAGUGCAUCACAGAACUUUGU</td>\n      <td>3</td>\n      <td>2</td>\n    </tr>\n    <tr>\n      <th>3</th>\n      <td>ENST00000448179.1</td>\n      <td>hsa-miR-152-3p</td>\n      <td>NaN</td>\n      <td>GTGCTCACACGCAGCTGGCAATGGCAAGTCAGTGGATTTAGGATAA...</td>\n      <td>-1</td>\n      <td>NaN</td>\n      <td>UCAGUGCAUGACAGAACUUGG</td>\n      <td>4</td>\n      <td>3</td>\n    </tr>\n    <tr>\n      <th>4</th>\n      <td>ENST00000448179.1</td>\n      <td>hsa-miR-15a-5p</td>\n      <td>NaN</td>\n      <td>GTGCTCACACGCAGCTGGCAATGGCAAGTCAGTGGATTTAGGATAA...</td>\n      <td>-1</td>\n      <td>NaN</td>\n      <td>UAGCAGCACAUAAUGGUUUGUG</td>\n      <td>5</td>\n      <td>4</td>\n    </tr>\n    <tr>\n      <th>...</th>\n      <td>...</td>\n      <td>...</td>\n      <td>...</td>\n      <td>...</td>\n      <td>...</td>\n      <td>...</td>\n      <td>...</td>\n      <td>...</td>\n      <td>...</td>\n    </tr>\n    <tr>\n      <th>15350</th>\n      <td>ENST00000427022.1</td>\n      <td>hsa-miR-487b-3p</td>\n      <td>NaN</td>\n      <td>AGCTGCTCTAGAATGTAGCAATGGTGGGCTCCTTTGGGGGCCATCT...</td>\n      <td>-375</td>\n      <td>NaN</td>\n      <td>AAUCGUACAGGGUCAUCCACUU</td>\n      <td>260</td>\n      <td>15350</td>\n    </tr>\n    <tr>\n      <th>15351</th>\n      <td>ENST00000445938.1</td>\n      <td>hsa-miR-503-5p</td>\n      <td>NaN</td>\n      <td>GGGAACAATCTCCTCGTTCCAGAAGGGCAGGGCCCGGGCAATGGTG...</td>\n      <td>-492</td>\n      <td>NaN</td>\n      <td>UAGCAGCGGGAACAGUUCUGCAG</td>\n      <td>261</td>\n      <td>15351</td>\n    </tr>\n    <tr>\n      <th>15352</th>\n      <td>ENST00000425727.1</td>\n      <td>hsa-miR-503-5p</td>\n      <td>NaN</td>\n      <td>CGACGCTCCTGGGGGACACAGGCACGCTGCTTTCCCTCCCAAGCCA...</td>\n      <td>-493</td>\n      <td>NaN</td>\n      <td>UAGCAGCGGGAACAGUUCUGCAG</td>\n      <td>261</td>\n      <td>15352</td>\n    </tr>\n    <tr>\n      <th>15353</th>\n      <td>ENST00000427458.1</td>\n      <td>hsa-miR-503-5p</td>\n      <td>NaN</td>\n      <td>ATTTCCAGAGAGACCATTAGGAACAGACTGCCTGCGCTGCTGACTT...</td>\n      <td>-499</td>\n      <td>NaN</td>\n      <td>UAGCAGCGGGAACAGUUCUGCAG</td>\n      <td>261</td>\n      <td>15353</td>\n    </tr>\n    <tr>\n      <th>15354</th>\n      <td>ENST00000441539.1</td>\n      <td>hsa-miR-503-5p</td>\n      <td>NaN</td>\n      <td>GGTTCACTGATACCTGTGTTATAGAACCACCATCAAGTGAAAATTG...</td>\n      <td>-500</td>\n      <td>NaN</td>\n      <td>UAGCAGCGGGAACAGUUCUGCAG</td>\n      <td>261</td>\n      <td>15354</td>\n    </tr>\n  </tbody>\n</table>\n<p>15355 rows × 9 columns</p>\n</div>"
     },
     "execution_count": 8,
     "metadata": {},
     "output_type": "execute_result"
    }
   ],
   "source": [
    "import pandas as pd\n",
    "df = pd.read_csv(r'D:\\潘子祺Workspace\\Python\\复现LMIINGI\\positive_rna_pairs_dropna.csv')"
   ],
   "metadata": {
    "collapsed": false,
    "pycharm": {
     "name": "#%%\n"
    }
   }
  },
  {
   "cell_type": "code",
   "execution_count": 11,
   "outputs": [
    {
     "name": "stdout",
     "output_type": "stream",
     "text": [
      "ENST00000445938.1\n"
     ]
    }
   ],
   "source": [
    "print(df['lncrna'][15351])"
   ],
   "metadata": {
    "collapsed": false,
    "pycharm": {
     "name": "#%%\n"
    }
   }
  },
  {
   "cell_type": "code",
   "execution_count": 12,
   "outputs": [
    {
     "data": {
      "text/plain": "0         -1\n1         -1\n2         -1\n3         -1\n4         -1\n        ... \n15350   -375\n15351   -492\n15352   -493\n15353   -499\n15354   -500\nName: lncrna_id, Length: 15355, dtype: int64"
     },
     "execution_count": 12,
     "metadata": {},
     "output_type": "execute_result"
    }
   ],
   "source": [
    "l_id = df['lncrna_id']\n",
    "l_id"
   ],
   "metadata": {
    "collapsed": false,
    "pycharm": {
     "name": "#%%\n"
    }
   }
  },
  {
   "cell_type": "code",
   "execution_count": 15,
   "outputs": [
    {
     "data": {
      "text/plain": "lncrna_id  -1    -29   -172  -173  -174  -175  -176  -307  -336  -337  ...  \\\nlncrna_id                                                              ...   \n-1            0     0     0     0     0     0     0     0     0     0  ...   \n-29           0     0     0     0     0     0     0     0     0     0  ...   \n-172          0     0     0     0     0     0     0     0     0     0  ...   \n-173          0     0     0     0     0     0     0     0     0     0  ...   \n-174          0     0     0     0     0     0     0     0     0     0  ...   \n...         ...   ...   ...   ...   ...   ...   ...   ...   ...   ...  ...   \n-375          0     0     0     0     0     0     0     0     0     0  ...   \n-492          0     0     0     0     0     0     0     0     0     0  ...   \n-493          0     0     0     0     0     0     0     0     0     0  ...   \n-499          0     0     0     0     0     0     0     0     0     0  ...   \n-500          0     0     0     0     0     0     0     0     0     0  ...   \n\nlncrna_id  -882  -340  -341  -946  -947  -375  -492  -493  -499  -500  \nlncrna_id                                                              \n-1            0     0     0     0     0     0     0     0     0     0  \n-29           0     0     0     0     0     0     0     0     0     0  \n-172          0     0     0     0     0     0     0     0     0     0  \n-173          0     0     0     0     0     0     0     0     0     0  \n-174          0     0     0     0     0     0     0     0     0     0  \n...         ...   ...   ...   ...   ...   ...   ...   ...   ...   ...  \n-375          0     0     0     0     0     0     0     0     0     0  \n-492          0     0     0     0     0     0     0     0     0     0  \n-493          0     0     0     0     0     0     0     0     0     0  \n-499          0     0     0     0     0     0     0     0     0     0  \n-500          0     0     0     0     0     0     0     0     0     0  \n\n[1642 rows x 1642 columns]",
      "text/html": "<div>\n<style scoped>\n    .dataframe tbody tr th:only-of-type {\n        vertical-align: middle;\n    }\n\n    .dataframe tbody tr th {\n        vertical-align: top;\n    }\n\n    .dataframe thead th {\n        text-align: right;\n    }\n</style>\n<table border=\"1\" class=\"dataframe\">\n  <thead>\n    <tr style=\"text-align: right;\">\n      <th>lncrna_id</th>\n      <th>-1</th>\n      <th>-29</th>\n      <th>-172</th>\n      <th>-173</th>\n      <th>-174</th>\n      <th>-175</th>\n      <th>-176</th>\n      <th>-307</th>\n      <th>-336</th>\n      <th>-337</th>\n      <th>...</th>\n      <th>-882</th>\n      <th>-340</th>\n      <th>-341</th>\n      <th>-946</th>\n      <th>-947</th>\n      <th>-375</th>\n      <th>-492</th>\n      <th>-493</th>\n      <th>-499</th>\n      <th>-500</th>\n    </tr>\n    <tr>\n      <th>lncrna_id</th>\n      <th></th>\n      <th></th>\n      <th></th>\n      <th></th>\n      <th></th>\n      <th></th>\n      <th></th>\n      <th></th>\n      <th></th>\n      <th></th>\n      <th></th>\n      <th></th>\n      <th></th>\n      <th></th>\n      <th></th>\n      <th></th>\n      <th></th>\n      <th></th>\n      <th></th>\n      <th></th>\n      <th></th>\n    </tr>\n  </thead>\n  <tbody>\n    <tr>\n      <th>-1</th>\n      <td>0</td>\n      <td>0</td>\n      <td>0</td>\n      <td>0</td>\n      <td>0</td>\n      <td>0</td>\n      <td>0</td>\n      <td>0</td>\n      <td>0</td>\n      <td>0</td>\n      <td>...</td>\n      <td>0</td>\n      <td>0</td>\n      <td>0</td>\n      <td>0</td>\n      <td>0</td>\n      <td>0</td>\n      <td>0</td>\n      <td>0</td>\n      <td>0</td>\n      <td>0</td>\n    </tr>\n    <tr>\n      <th>-29</th>\n      <td>0</td>\n      <td>0</td>\n      <td>0</td>\n      <td>0</td>\n      <td>0</td>\n      <td>0</td>\n      <td>0</td>\n      <td>0</td>\n      <td>0</td>\n      <td>0</td>\n      <td>...</td>\n      <td>0</td>\n      <td>0</td>\n      <td>0</td>\n      <td>0</td>\n      <td>0</td>\n      <td>0</td>\n      <td>0</td>\n      <td>0</td>\n      <td>0</td>\n      <td>0</td>\n    </tr>\n    <tr>\n      <th>-172</th>\n      <td>0</td>\n      <td>0</td>\n      <td>0</td>\n      <td>0</td>\n      <td>0</td>\n      <td>0</td>\n      <td>0</td>\n      <td>0</td>\n      <td>0</td>\n      <td>0</td>\n      <td>...</td>\n      <td>0</td>\n      <td>0</td>\n      <td>0</td>\n      <td>0</td>\n      <td>0</td>\n      <td>0</td>\n      <td>0</td>\n      <td>0</td>\n      <td>0</td>\n      <td>0</td>\n    </tr>\n    <tr>\n      <th>-173</th>\n      <td>0</td>\n      <td>0</td>\n      <td>0</td>\n      <td>0</td>\n      <td>0</td>\n      <td>0</td>\n      <td>0</td>\n      <td>0</td>\n      <td>0</td>\n      <td>0</td>\n      <td>...</td>\n      <td>0</td>\n      <td>0</td>\n      <td>0</td>\n      <td>0</td>\n      <td>0</td>\n      <td>0</td>\n      <td>0</td>\n      <td>0</td>\n      <td>0</td>\n      <td>0</td>\n    </tr>\n    <tr>\n      <th>-174</th>\n      <td>0</td>\n      <td>0</td>\n      <td>0</td>\n      <td>0</td>\n      <td>0</td>\n      <td>0</td>\n      <td>0</td>\n      <td>0</td>\n      <td>0</td>\n      <td>0</td>\n      <td>...</td>\n      <td>0</td>\n      <td>0</td>\n      <td>0</td>\n      <td>0</td>\n      <td>0</td>\n      <td>0</td>\n      <td>0</td>\n      <td>0</td>\n      <td>0</td>\n      <td>0</td>\n    </tr>\n    <tr>\n      <th>...</th>\n      <td>...</td>\n      <td>...</td>\n      <td>...</td>\n      <td>...</td>\n      <td>...</td>\n      <td>...</td>\n      <td>...</td>\n      <td>...</td>\n      <td>...</td>\n      <td>...</td>\n      <td>...</td>\n      <td>...</td>\n      <td>...</td>\n      <td>...</td>\n      <td>...</td>\n      <td>...</td>\n      <td>...</td>\n      <td>...</td>\n      <td>...</td>\n      <td>...</td>\n      <td>...</td>\n    </tr>\n    <tr>\n      <th>-375</th>\n      <td>0</td>\n      <td>0</td>\n      <td>0</td>\n      <td>0</td>\n      <td>0</td>\n      <td>0</td>\n      <td>0</td>\n      <td>0</td>\n      <td>0</td>\n      <td>0</td>\n      <td>...</td>\n      <td>0</td>\n      <td>0</td>\n      <td>0</td>\n      <td>0</td>\n      <td>0</td>\n      <td>0</td>\n      <td>0</td>\n      <td>0</td>\n      <td>0</td>\n      <td>0</td>\n    </tr>\n    <tr>\n      <th>-492</th>\n      <td>0</td>\n      <td>0</td>\n      <td>0</td>\n      <td>0</td>\n      <td>0</td>\n      <td>0</td>\n      <td>0</td>\n      <td>0</td>\n      <td>0</td>\n      <td>0</td>\n      <td>...</td>\n      <td>0</td>\n      <td>0</td>\n      <td>0</td>\n      <td>0</td>\n      <td>0</td>\n      <td>0</td>\n      <td>0</td>\n      <td>0</td>\n      <td>0</td>\n      <td>0</td>\n    </tr>\n    <tr>\n      <th>-493</th>\n      <td>0</td>\n      <td>0</td>\n      <td>0</td>\n      <td>0</td>\n      <td>0</td>\n      <td>0</td>\n      <td>0</td>\n      <td>0</td>\n      <td>0</td>\n      <td>0</td>\n      <td>...</td>\n      <td>0</td>\n      <td>0</td>\n      <td>0</td>\n      <td>0</td>\n      <td>0</td>\n      <td>0</td>\n      <td>0</td>\n      <td>0</td>\n      <td>0</td>\n      <td>0</td>\n    </tr>\n    <tr>\n      <th>-499</th>\n      <td>0</td>\n      <td>0</td>\n      <td>0</td>\n      <td>0</td>\n      <td>0</td>\n      <td>0</td>\n      <td>0</td>\n      <td>0</td>\n      <td>0</td>\n      <td>0</td>\n      <td>...</td>\n      <td>0</td>\n      <td>0</td>\n      <td>0</td>\n      <td>0</td>\n      <td>0</td>\n      <td>0</td>\n      <td>0</td>\n      <td>0</td>\n      <td>0</td>\n      <td>0</td>\n    </tr>\n    <tr>\n      <th>-500</th>\n      <td>0</td>\n      <td>0</td>\n      <td>0</td>\n      <td>0</td>\n      <td>0</td>\n      <td>0</td>\n      <td>0</td>\n      <td>0</td>\n      <td>0</td>\n      <td>0</td>\n      <td>...</td>\n      <td>0</td>\n      <td>0</td>\n      <td>0</td>\n      <td>0</td>\n      <td>0</td>\n      <td>0</td>\n      <td>0</td>\n      <td>0</td>\n      <td>0</td>\n      <td>0</td>\n    </tr>\n  </tbody>\n</table>\n<p>1642 rows × 1642 columns</p>\n</div>"
     },
     "execution_count": 15,
     "metadata": {},
     "output_type": "execute_result"
    }
   ],
   "source": [
    "data = pd.read_csv(r'D:\\潘子祺Workspace\\Python\\复现LMIINGI\\positive_rna_pairs_dropna.csv')\n",
    "\n",
    "lncrna = pd.DataFrame(index=None)\n",
    "lncrna['seq'] = data['lncrna_seq'].drop_duplicates()\n",
    "lncrna['id'] = data['lncrna_id'].drop_duplicates()\n",
    "lncrna.set_index(['id'], inplace=True)\n",
    "\n",
    "id = data['lncrna_id'].drop_duplicates()\n",
    "\n",
    "df = pd.DataFrame(data=0, index=id, columns=id)\n",
    "df"
   ],
   "metadata": {
    "collapsed": false,
    "pycharm": {
     "name": "#%%\n"
    }
   }
  },
  {
   "cell_type": "code",
   "execution_count": null,
   "outputs": [],
   "source": [
    "print(df.ix[-1].index.values[0])"
   ],
   "metadata": {
    "collapsed": false,
    "pycharm": {
     "name": "#%%\n"
    }
   }
  },
  {
   "cell_type": "code",
   "execution_count": 40,
   "outputs": [
    {
     "name": "stdout",
     "output_type": "stream",
     "text": [
      "0.12290502793296089\n"
     ]
    }
   ],
   "source": [
    "import swalign\n",
    "import pandas as pd\n",
    "\n",
    "data = pd.read_csv(r'D:\\潘子祺Workspace\\Python\\复现LMIINGI\\positive_rna_pairs_dropna.csv')\n",
    "\n",
    "lncrna = pd.DataFrame(index=None)\n",
    "lncrna['seq'] = data['lncrna_seq'].drop_duplicates()\n",
    "lncrna['id'] = data['lncrna_id'].drop_duplicates()\n",
    "lncrna.set_index(['id'], inplace=True)\n",
    "\n",
    "seq_1 =  lncrna['seq'][-1]\n",
    "seq_2 = lncrna['seq'][-29]\n",
    "\n",
    "match = 2\n",
    "mismatch = -1\n",
    "scoring = swalign.NucleotideScoringMatrix(match, mismatch)\n",
    "sw = swalign.LocalAlignment(scoring)\n",
    "if seq_1 == seq_2:\n",
    "    score = 1\n",
    "else:\n",
    "    alignment = sw.align(seq_1, seq_2)\n",
    "    match = alignment.matches\n",
    "    score = match/(max(len(seq_1),len(seq_2)))\n",
    "\n",
    "print(score)"
   ],
   "metadata": {
    "collapsed": false,
    "pycharm": {
     "name": "#%%\n"
    }
   }
  },
  {
   "cell_type": "code",
   "execution_count": 21,
   "outputs": [
    {
     "name": "stdout",
     "output_type": "stream",
     "text": [
      "3043 514\n"
     ]
    }
   ],
   "source": [
    "seq = lncrna['seq'].tolist()\n",
    "print(len(seq[0]),len(seq[1]))"
   ],
   "metadata": {
    "collapsed": false,
    "pycharm": {
     "name": "#%%\n"
    }
   }
  },
  {
   "cell_type": "code",
   "execution_count": 26,
   "outputs": [
    {
     "name": "stdout",
     "output_type": "stream",
     "text": [
      "0         -1\n",
      "20       -29\n",
      "21      -172\n",
      "41      -173\n",
      "61      -174\n",
      "        ... \n",
      "15350   -375\n",
      "15351   -492\n",
      "15352   -493\n",
      "15353   -499\n",
      "15354   -500\n",
      "Name: lncrna_id, Length: 1642, dtype: int64 0          1\n",
      "1          2\n",
      "2          3\n",
      "3          4\n",
      "4          5\n",
      "        ... \n",
      "9710     189\n",
      "10279    262\n",
      "10386     31\n",
      "13618    265\n",
      "15350    260\n",
      "Name: mirna_id, Length: 266, dtype: int64\n"
     ]
    }
   ],
   "source": [
    "lncnum = data['lncrna_id'].drop_duplicates()\n",
    "minum = data['mirna_id'].drop_duplicates()\n",
    "print(lncnum,minum)\n"
   ],
   "metadata": {
    "collapsed": false,
    "pycharm": {
     "name": "#%%\n"
    }
   }
  },
  {
   "cell_type": "code",
   "execution_count": 124,
   "outputs": [
    {
     "data": {
      "text/plain": "        id\n0         \n-1       1\n-29      2\n-172     3\n-173     4\n-174     5\n...    ...\n-375  1638\n-492  1639\n-493  1640\n-499  1641\n-500  1642\n\n[1642 rows x 1 columns]",
      "text/html": "<div>\n<style scoped>\n    .dataframe tbody tr th:only-of-type {\n        vertical-align: middle;\n    }\n\n    .dataframe tbody tr th {\n        vertical-align: top;\n    }\n\n    .dataframe thead th {\n        text-align: right;\n    }\n</style>\n<table border=\"1\" class=\"dataframe\">\n  <thead>\n    <tr style=\"text-align: right;\">\n      <th></th>\n      <th>id</th>\n    </tr>\n    <tr>\n      <th>0</th>\n      <th></th>\n    </tr>\n  </thead>\n  <tbody>\n    <tr>\n      <th>-1</th>\n      <td>1</td>\n    </tr>\n    <tr>\n      <th>-29</th>\n      <td>2</td>\n    </tr>\n    <tr>\n      <th>-172</th>\n      <td>3</td>\n    </tr>\n    <tr>\n      <th>-173</th>\n      <td>4</td>\n    </tr>\n    <tr>\n      <th>-174</th>\n      <td>5</td>\n    </tr>\n    <tr>\n      <th>...</th>\n      <td>...</td>\n    </tr>\n    <tr>\n      <th>-375</th>\n      <td>1638</td>\n    </tr>\n    <tr>\n      <th>-492</th>\n      <td>1639</td>\n    </tr>\n    <tr>\n      <th>-493</th>\n      <td>1640</td>\n    </tr>\n    <tr>\n      <th>-499</th>\n      <td>1641</td>\n    </tr>\n    <tr>\n      <th>-500</th>\n      <td>1642</td>\n    </tr>\n  </tbody>\n</table>\n<p>1642 rows × 1 columns</p>\n</div>"
     },
     "execution_count": 124,
     "metadata": {},
     "output_type": "execute_result"
    }
   ],
   "source": [
    "data = pd.read_csv(r'D:\\潘子祺Workspace\\Python\\复现LMIINGI\\positive_rna_pairs_dropna.csv')\n",
    "\n",
    "lid = data['lncrna_id'].drop_duplicates().tolist()\n",
    "mid = data['mirna_id'].drop_duplicates().tolist()\n",
    "ldf = pd.DataFrame(lid).set_index([0])\n",
    "ldf['id'] = list(range(1,1643))\n",
    "mdf = pd.DataFrame(mid).set_index([0])\n",
    "mdf['id'] = list(range(1,267))\n",
    "ldf"
   ],
   "metadata": {
    "collapsed": false,
    "pycharm": {
     "name": "#%%\n"
    }
   }
  },
  {
   "cell_type": "code",
   "execution_count": 74,
   "outputs": [
    {
     "name": "stdout",
     "output_type": "stream",
     "text": [
      "0          1\n",
      "1          2\n",
      "2          3\n",
      "3          4\n",
      "4          5\n",
      "        ... \n",
      "15350    260\n",
      "15351    261\n",
      "15352    261\n",
      "15353    261\n",
      "15354    261\n",
      "Name: mi, Length: 15355, dtype: int64\n"
     ]
    }
   ],
   "source": [
    "pair = pd.DataFrame()\n",
    "pair['lnc'] = data['lncrna_id']\n",
    "pair['mi'] = data['mirna_id']\n",
    "print(pair['mi'])\n",
    "for i in range(15355):\n",
    "    pair['lnc'][i] = ldf['id'][pair['lnc'][i]]\n",
    "    pair['mi'][i] = mdf['id'][pair['mi'][i]]\n",
    "\n",
    "pair\n",
    "\n",
    "pair.to_csv(\"pair.csv\")\n"
   ],
   "metadata": {
    "collapsed": false,
    "pycharm": {
     "name": "#%%\n"
    }
   }
  },
  {
   "cell_type": "code",
   "execution_count": 121,
   "outputs": [
    {
     "data": {
      "text/plain": "         exam1  exam2 exam1res\nAndre       43     24       傻逼\nBarry       81     63        B\nChris       78     56        C\nDan         75     56        C\nEmilio      89     67        B\nFred        70     51        C\nGreta       91     79        A\nHumbert     65     46        D\nIvan        98     72        A\nJames       87     60        B",
      "text/html": "<div>\n<style scoped>\n    .dataframe tbody tr th:only-of-type {\n        vertical-align: middle;\n    }\n\n    .dataframe tbody tr th {\n        vertical-align: top;\n    }\n\n    .dataframe thead th {\n        text-align: right;\n    }\n</style>\n<table border=\"1\" class=\"dataframe\">\n  <thead>\n    <tr style=\"text-align: right;\">\n      <th></th>\n      <th>exam1</th>\n      <th>exam2</th>\n      <th>exam1res</th>\n    </tr>\n  </thead>\n  <tbody>\n    <tr>\n      <th>Andre</th>\n      <td>43</td>\n      <td>24</td>\n      <td>傻逼</td>\n    </tr>\n    <tr>\n      <th>Barry</th>\n      <td>81</td>\n      <td>63</td>\n      <td>B</td>\n    </tr>\n    <tr>\n      <th>Chris</th>\n      <td>78</td>\n      <td>56</td>\n      <td>C</td>\n    </tr>\n    <tr>\n      <th>Dan</th>\n      <td>75</td>\n      <td>56</td>\n      <td>C</td>\n    </tr>\n    <tr>\n      <th>Emilio</th>\n      <td>89</td>\n      <td>67</td>\n      <td>B</td>\n    </tr>\n    <tr>\n      <th>Fred</th>\n      <td>70</td>\n      <td>51</td>\n      <td>C</td>\n    </tr>\n    <tr>\n      <th>Greta</th>\n      <td>91</td>\n      <td>79</td>\n      <td>A</td>\n    </tr>\n    <tr>\n      <th>Humbert</th>\n      <td>65</td>\n      <td>46</td>\n      <td>D</td>\n    </tr>\n    <tr>\n      <th>Ivan</th>\n      <td>98</td>\n      <td>72</td>\n      <td>A</td>\n    </tr>\n    <tr>\n      <th>James</th>\n      <td>87</td>\n      <td>60</td>\n      <td>B</td>\n    </tr>\n  </tbody>\n</table>\n</div>"
     },
     "execution_count": 121,
     "metadata": {},
     "output_type": "execute_result"
    }
   ],
   "source": [
    "grades = pd.DataFrame(\n",
    "    data={'exam1': [43, 81, 78, 75, 89, 70, 91, 65, 98, 87],\n",
    "          'exam2': [24, 63, 56, 56, 67, 51, 79, 46, 72, 60]},\n",
    "    index=['Andre', 'Barry', 'Chris', 'Dan', 'Emilio',\n",
    "           'Fred', 'Greta', 'Humbert', 'Ivan', 'James']\n",
    ")\n",
    "\n",
    "def convert_to_letter(score, str):\n",
    "    if (score >= 90):\n",
    "        return 'A'\n",
    "    elif (score >= 80):\n",
    "        return 'B'\n",
    "    elif (score >= 70):\n",
    "        return 'C'\n",
    "    elif (score >= 60):\n",
    "        return 'D'\n",
    "    else:\n",
    "        return str\n",
    "\n",
    "grades['exam1res'] = grades['exam1'].apply(convert_to_letter, args = ('傻逼',))\n",
    "grades\n"
   ],
   "metadata": {
    "collapsed": false,
    "pycharm": {
     "name": "#%%\n"
    }
   }
  },
  {
   "cell_type": "markdown",
   "source": [
    "# 这波懒得建一个新文件，在这里边写边调试算了"
   ],
   "metadata": {
    "collapsed": false
   }
  },
  {
   "cell_type": "code",
   "execution_count": 137,
   "outputs": [
    {
     "data": {
      "text/plain": "        0                                                seq\n0      -1  GTGCTCACACGCAGCTGGCAATGGCAAGTCAGTGGATTTAGGATAA...\n1     -29  CAGGGTTCTGGGCTGTGGTAAAAATTACGATTTTCCACAAGACTAT...\n2    -172  GGTTCATGATGACACAGGACCTTGTCTGAACATAATGATTTCAAAA...\n3    -173  TTCCCCGGAGAAGTTGTCATGGGAGGCCAGCCGCCTGCTGGCAAGG...\n4    -174  GTGGCTCTCCATGCCTACCTGTGGTCTCTTGGACACCCTTGCAGAA...\n...   ...                                                ...\n1637 -375  AGCTGCTCTAGAATGTAGCAATGGTGGGCTCCTTTGGGGGCCATCT...\n1638 -492  GGGAACAATCTCCTCGTTCCAGAAGGGCAGGGCCCGGGCAATGGTG...\n1639 -493  CGACGCTCCTGGGGGACACAGGCACGCTGCTTTCCCTCCCAAGCCA...\n1640 -499  ATTTCCAGAGAGACCATTAGGAACAGACTGCCTGCGCTGCTGACTT...\n1641 -500  GGTTCACTGATACCTGTGTTATAGAACCACCATCAAGTGAAAATTG...\n\n[1642 rows x 2 columns]",
      "text/html": "<div>\n<style scoped>\n    .dataframe tbody tr th:only-of-type {\n        vertical-align: middle;\n    }\n\n    .dataframe tbody tr th {\n        vertical-align: top;\n    }\n\n    .dataframe thead th {\n        text-align: right;\n    }\n</style>\n<table border=\"1\" class=\"dataframe\">\n  <thead>\n    <tr style=\"text-align: right;\">\n      <th></th>\n      <th>0</th>\n      <th>seq</th>\n    </tr>\n  </thead>\n  <tbody>\n    <tr>\n      <th>0</th>\n      <td>-1</td>\n      <td>GTGCTCACACGCAGCTGGCAATGGCAAGTCAGTGGATTTAGGATAA...</td>\n    </tr>\n    <tr>\n      <th>1</th>\n      <td>-29</td>\n      <td>CAGGGTTCTGGGCTGTGGTAAAAATTACGATTTTCCACAAGACTAT...</td>\n    </tr>\n    <tr>\n      <th>2</th>\n      <td>-172</td>\n      <td>GGTTCATGATGACACAGGACCTTGTCTGAACATAATGATTTCAAAA...</td>\n    </tr>\n    <tr>\n      <th>3</th>\n      <td>-173</td>\n      <td>TTCCCCGGAGAAGTTGTCATGGGAGGCCAGCCGCCTGCTGGCAAGG...</td>\n    </tr>\n    <tr>\n      <th>4</th>\n      <td>-174</td>\n      <td>GTGGCTCTCCATGCCTACCTGTGGTCTCTTGGACACCCTTGCAGAA...</td>\n    </tr>\n    <tr>\n      <th>...</th>\n      <td>...</td>\n      <td>...</td>\n    </tr>\n    <tr>\n      <th>1637</th>\n      <td>-375</td>\n      <td>AGCTGCTCTAGAATGTAGCAATGGTGGGCTCCTTTGGGGGCCATCT...</td>\n    </tr>\n    <tr>\n      <th>1638</th>\n      <td>-492</td>\n      <td>GGGAACAATCTCCTCGTTCCAGAAGGGCAGGGCCCGGGCAATGGTG...</td>\n    </tr>\n    <tr>\n      <th>1639</th>\n      <td>-493</td>\n      <td>CGACGCTCCTGGGGGACACAGGCACGCTGCTTTCCCTCCCAAGCCA...</td>\n    </tr>\n    <tr>\n      <th>1640</th>\n      <td>-499</td>\n      <td>ATTTCCAGAGAGACCATTAGGAACAGACTGCCTGCGCTGCTGACTT...</td>\n    </tr>\n    <tr>\n      <th>1641</th>\n      <td>-500</td>\n      <td>GGTTCACTGATACCTGTGTTATAGAACCACCATCAAGTGAAAATTG...</td>\n    </tr>\n  </tbody>\n</table>\n<p>1642 rows × 2 columns</p>\n</div>"
     },
     "execution_count": 137,
     "metadata": {},
     "output_type": "execute_result"
    }
   ],
   "source": [
    "import swalign\n",
    "import pandas as pd\n",
    "import numpy as np\n",
    "import time\n",
    "\n",
    "def smith(seq_1, seq_2):\n",
    "    match = 2\n",
    "    mismatch = -1\n",
    "    scoring = swalign.NucleotideScoringMatrix(match, mismatch)\n",
    "    sw = swalign.LocalAlignment(scoring)\n",
    "    if seq_1 == seq_2:\n",
    "        return 1\n",
    "    else:\n",
    "        alignment = sw.align(seq_1, seq_2)\n",
    "        match = alignment.matches\n",
    "        score = match/(max(len(seq_1),len(seq_2)))\n",
    "        return score\n",
    "\n",
    "def calc(x, i):\n",
    "    seq_1 = ldf['seq'][x]\n",
    "    seq_2 = ldf['seq'][i]\n",
    "    return smith(seq_1, seq_2)\n",
    "\n",
    "data = pd.read_csv(r'D:\\潘子祺Workspace\\Python\\复现LMIINGI\\positive_rna_pairs_dropna.csv')\n",
    "\n",
    "lnc_id = data['lncrna_id'].drop_duplicates().tolist()\n",
    "lnc_sq = data['lncrna_seq'].drop_duplicates().tolist()\n",
    "ldf = pd.DataFrame(lnc_id)\n",
    "ldf['seq'] = pd.DataFrame(lnc_sq)\n",
    "\n",
    "# df = pd.DataFrame(np.arange(1642).reshape(1642,1))\n",
    "# for i in range(1,1642):\n",
    "#     df[i] = df[0]\n",
    "#\n",
    "# for i in range(0,1642):\n",
    "#     df[i] = df[i].apply(calc, args=(i,))\n",
    "\n",
    "ldf"
   ],
   "metadata": {
    "collapsed": false,
    "pycharm": {
     "name": "#%%\n"
    }
   }
  },
  {
   "cell_type": "code",
   "execution_count": 151,
   "outputs": [
    {
     "data": {
      "text/plain": "      0     1     2     3     4     5     6     7     8     9     ...  1632  \\\n0        0     0     0     0     0     0     0     0     0     0  ...     0   \n1        1     1     1     1     1     1     1     1     1     1  ...     1   \n2        2     2     2     2     2     2     2     2     2     2  ...     2   \n3        3     3     3     3     3     3     3     3     3     3  ...     3   \n4        4     4     4     4     4     4     4     4     4     4  ...     4   \n...    ...   ...   ...   ...   ...   ...   ...   ...   ...   ...  ...   ...   \n1637  1637  1637  1637  1637  1637  1637  1637  1637  1637  1637  ...  1637   \n1638  1638  1638  1638  1638  1638  1638  1638  1638  1638  1638  ...  1638   \n1639  1639  1639  1639  1639  1639  1639  1639  1639  1639  1639  ...  1639   \n1640  1640  1640  1640  1640  1640  1640  1640  1640  1640  1640  ...  1640   \n1641  1641  1641  1641  1641  1641  1641  1641  1641  1641  1641  ...  1641   \n\n      1633  1634  1635  1636  1637  1638  1639  1640  1641  \n0        0     0     0     0     0     0     0     0     0  \n1        1     1     1     1     1     1     1     1     1  \n2        2     2     2     2     2     2     2     2     2  \n3        3     3     3     3     3     3     3     3     3  \n4        4     4     4     4     4     4     4     4     4  \n...    ...   ...   ...   ...   ...   ...   ...   ...   ...  \n1637  1637  1637  1637  1637  1637  1637  1637  1637  1637  \n1638  1638  1638  1638  1638  1638  1638  1638  1638  1638  \n1639  1639  1639  1639  1639  1639  1639  1639  1639  1639  \n1640  1640  1640  1640  1640  1640  1640  1640  1640  1640  \n1641  1641  1641  1641  1641  1641  1641  1641  1641  1641  \n\n[1642 rows x 1642 columns]",
      "text/html": "<div>\n<style scoped>\n    .dataframe tbody tr th:only-of-type {\n        vertical-align: middle;\n    }\n\n    .dataframe tbody tr th {\n        vertical-align: top;\n    }\n\n    .dataframe thead th {\n        text-align: right;\n    }\n</style>\n<table border=\"1\" class=\"dataframe\">\n  <thead>\n    <tr style=\"text-align: right;\">\n      <th></th>\n      <th>0</th>\n      <th>1</th>\n      <th>2</th>\n      <th>3</th>\n      <th>4</th>\n      <th>5</th>\n      <th>6</th>\n      <th>7</th>\n      <th>8</th>\n      <th>9</th>\n      <th>...</th>\n      <th>1632</th>\n      <th>1633</th>\n      <th>1634</th>\n      <th>1635</th>\n      <th>1636</th>\n      <th>1637</th>\n      <th>1638</th>\n      <th>1639</th>\n      <th>1640</th>\n      <th>1641</th>\n    </tr>\n  </thead>\n  <tbody>\n    <tr>\n      <th>0</th>\n      <td>0</td>\n      <td>0</td>\n      <td>0</td>\n      <td>0</td>\n      <td>0</td>\n      <td>0</td>\n      <td>0</td>\n      <td>0</td>\n      <td>0</td>\n      <td>0</td>\n      <td>...</td>\n      <td>0</td>\n      <td>0</td>\n      <td>0</td>\n      <td>0</td>\n      <td>0</td>\n      <td>0</td>\n      <td>0</td>\n      <td>0</td>\n      <td>0</td>\n      <td>0</td>\n    </tr>\n    <tr>\n      <th>1</th>\n      <td>1</td>\n      <td>1</td>\n      <td>1</td>\n      <td>1</td>\n      <td>1</td>\n      <td>1</td>\n      <td>1</td>\n      <td>1</td>\n      <td>1</td>\n      <td>1</td>\n      <td>...</td>\n      <td>1</td>\n      <td>1</td>\n      <td>1</td>\n      <td>1</td>\n      <td>1</td>\n      <td>1</td>\n      <td>1</td>\n      <td>1</td>\n      <td>1</td>\n      <td>1</td>\n    </tr>\n    <tr>\n      <th>2</th>\n      <td>2</td>\n      <td>2</td>\n      <td>2</td>\n      <td>2</td>\n      <td>2</td>\n      <td>2</td>\n      <td>2</td>\n      <td>2</td>\n      <td>2</td>\n      <td>2</td>\n      <td>...</td>\n      <td>2</td>\n      <td>2</td>\n      <td>2</td>\n      <td>2</td>\n      <td>2</td>\n      <td>2</td>\n      <td>2</td>\n      <td>2</td>\n      <td>2</td>\n      <td>2</td>\n    </tr>\n    <tr>\n      <th>3</th>\n      <td>3</td>\n      <td>3</td>\n      <td>3</td>\n      <td>3</td>\n      <td>3</td>\n      <td>3</td>\n      <td>3</td>\n      <td>3</td>\n      <td>3</td>\n      <td>3</td>\n      <td>...</td>\n      <td>3</td>\n      <td>3</td>\n      <td>3</td>\n      <td>3</td>\n      <td>3</td>\n      <td>3</td>\n      <td>3</td>\n      <td>3</td>\n      <td>3</td>\n      <td>3</td>\n    </tr>\n    <tr>\n      <th>4</th>\n      <td>4</td>\n      <td>4</td>\n      <td>4</td>\n      <td>4</td>\n      <td>4</td>\n      <td>4</td>\n      <td>4</td>\n      <td>4</td>\n      <td>4</td>\n      <td>4</td>\n      <td>...</td>\n      <td>4</td>\n      <td>4</td>\n      <td>4</td>\n      <td>4</td>\n      <td>4</td>\n      <td>4</td>\n      <td>4</td>\n      <td>4</td>\n      <td>4</td>\n      <td>4</td>\n    </tr>\n    <tr>\n      <th>...</th>\n      <td>...</td>\n      <td>...</td>\n      <td>...</td>\n      <td>...</td>\n      <td>...</td>\n      <td>...</td>\n      <td>...</td>\n      <td>...</td>\n      <td>...</td>\n      <td>...</td>\n      <td>...</td>\n      <td>...</td>\n      <td>...</td>\n      <td>...</td>\n      <td>...</td>\n      <td>...</td>\n      <td>...</td>\n      <td>...</td>\n      <td>...</td>\n      <td>...</td>\n      <td>...</td>\n    </tr>\n    <tr>\n      <th>1637</th>\n      <td>1637</td>\n      <td>1637</td>\n      <td>1637</td>\n      <td>1637</td>\n      <td>1637</td>\n      <td>1637</td>\n      <td>1637</td>\n      <td>1637</td>\n      <td>1637</td>\n      <td>1637</td>\n      <td>...</td>\n      <td>1637</td>\n      <td>1637</td>\n      <td>1637</td>\n      <td>1637</td>\n      <td>1637</td>\n      <td>1637</td>\n      <td>1637</td>\n      <td>1637</td>\n      <td>1637</td>\n      <td>1637</td>\n    </tr>\n    <tr>\n      <th>1638</th>\n      <td>1638</td>\n      <td>1638</td>\n      <td>1638</td>\n      <td>1638</td>\n      <td>1638</td>\n      <td>1638</td>\n      <td>1638</td>\n      <td>1638</td>\n      <td>1638</td>\n      <td>1638</td>\n      <td>...</td>\n      <td>1638</td>\n      <td>1638</td>\n      <td>1638</td>\n      <td>1638</td>\n      <td>1638</td>\n      <td>1638</td>\n      <td>1638</td>\n      <td>1638</td>\n      <td>1638</td>\n      <td>1638</td>\n    </tr>\n    <tr>\n      <th>1639</th>\n      <td>1639</td>\n      <td>1639</td>\n      <td>1639</td>\n      <td>1639</td>\n      <td>1639</td>\n      <td>1639</td>\n      <td>1639</td>\n      <td>1639</td>\n      <td>1639</td>\n      <td>1639</td>\n      <td>...</td>\n      <td>1639</td>\n      <td>1639</td>\n      <td>1639</td>\n      <td>1639</td>\n      <td>1639</td>\n      <td>1639</td>\n      <td>1639</td>\n      <td>1639</td>\n      <td>1639</td>\n      <td>1639</td>\n    </tr>\n    <tr>\n      <th>1640</th>\n      <td>1640</td>\n      <td>1640</td>\n      <td>1640</td>\n      <td>1640</td>\n      <td>1640</td>\n      <td>1640</td>\n      <td>1640</td>\n      <td>1640</td>\n      <td>1640</td>\n      <td>1640</td>\n      <td>...</td>\n      <td>1640</td>\n      <td>1640</td>\n      <td>1640</td>\n      <td>1640</td>\n      <td>1640</td>\n      <td>1640</td>\n      <td>1640</td>\n      <td>1640</td>\n      <td>1640</td>\n      <td>1640</td>\n    </tr>\n    <tr>\n      <th>1641</th>\n      <td>1641</td>\n      <td>1641</td>\n      <td>1641</td>\n      <td>1641</td>\n      <td>1641</td>\n      <td>1641</td>\n      <td>1641</td>\n      <td>1641</td>\n      <td>1641</td>\n      <td>1641</td>\n      <td>...</td>\n      <td>1641</td>\n      <td>1641</td>\n      <td>1641</td>\n      <td>1641</td>\n      <td>1641</td>\n      <td>1641</td>\n      <td>1641</td>\n      <td>1641</td>\n      <td>1641</td>\n      <td>1641</td>\n    </tr>\n  </tbody>\n</table>\n<p>1642 rows × 1642 columns</p>\n</div>"
     },
     "execution_count": 151,
     "metadata": {},
     "output_type": "execute_result"
    }
   ],
   "source": [
    "df = pd.DataFrame(np.arange(1642).reshape(1,1642))\n",
    "x = pd.DataFrame()\n",
    "x = x.append([df]*1642, ignore_index=True)\n",
    "df = pd.DataFrame(x.values.T, index=x.columns, columns=x.index, dtype=float)\n",
    "\n",
    "df"
   ],
   "metadata": {
    "collapsed": false,
    "pycharm": {
     "name": "#%%\n"
    }
   }
  },
  {
   "cell_type": "code",
   "execution_count": 153,
   "outputs": [
    {
     "name": "stdout",
     "output_type": "stream",
     "text": [
      "shabi\n"
     ]
    }
   ],
   "source": [
    "x = 'sha'\n",
    "print(x+'bi')"
   ],
   "metadata": {
    "collapsed": false,
    "pycharm": {
     "name": "#%%\n"
    }
   }
  },
  {
   "cell_type": "code",
   "execution_count": 51,
   "outputs": [
    {
     "name": "stdout",
     "output_type": "stream",
     "text": [
      "score: 12915 -- hsa-miR-148a-3p\n",
      "hsa-miR-148a-3p 12915\n"
     ]
    },
    {
     "data": {
      "text/plain": "                   0                                1  \\\n0     hsa-miR-136-5p     score: 119 -- hsa-miR-136-5p   \n1    hsa-miR-148a-3p  score: 17499 -- hsa-miR-148a-3p   \n2    hsa-miR-148b-3p  score: 17496 -- hsa-miR-148a-3p   \n3     hsa-miR-152-3p  score: 12915 -- hsa-miR-148a-3p   \n4     hsa-miR-15a-5p   score: 17488 -- hsa-miR-15a-5p   \n..               ...                              ...   \n261     hsa-miR-451a       score: 141 -- hsa-miR-451a   \n262  hsa-miR-219a-5p   score: 17479 -- hsa-miR-876-5p   \n263  hsa-miR-4782-3p   score: 21540 -- hsa-miR-876-5p   \n264   hsa-miR-127-3p   score: 17488 -- hsa-miR-876-5p   \n265   hsa-miR-126-3p   score: 15456 -- hsa-miR-876-5p   \n\n                                 2                              3  \\\n0     score: 105 -- hsa-miR-876-5p   score: 98 -- hsa-miR-200c-3p   \n1    score: 139 -- hsa-miR-148b-3p   score: 130 -- hsa-miR-152-3p   \n2    score: 143 -- hsa-miR-148b-3p   score: 126 -- hsa-miR-152-3p   \n3     score: 148 -- hsa-miR-152-3p  score: 126 -- hsa-miR-148b-3p   \n4     score: 118 -- hsa-miR-214-3p    score: 117 -- hsa-miR-16-5p   \n..                             ...                            ...   \n261   score: 115 -- hsa-miR-100-5p   score: 108 -- hsa-miR-99a-5p   \n262  score: 134 -- hsa-miR-219a-5p   score: 102 -- hsa-miR-19a-3p   \n263  score: 121 -- hsa-miR-4782-3p  score: 101 -- hsa-miR-219a-5p   \n264   score: 155 -- hsa-miR-127-3p   score: 118 -- hsa-miR-191-5p   \n265   score: 148 -- hsa-miR-126-3p   score: 114 -- hsa-miR-490-3p   \n\n                                 4                              5  \\\n0       score: 90 -- hsa-miR-22-3p   score: 90 -- hsa-miR-216b-5p   \n1     score: 120 -- hsa-miR-214-3p  score: 111 -- hsa-miR-193a-3p   \n2     score: 121 -- hsa-miR-214-3p   score: 111 -- hsa-miR-876-5p   \n3     score: 123 -- hsa-miR-214-3p     score: 115 -- hsa-miR-378i   \n4     score: 113 -- hsa-miR-195-5p   score: 112 -- hsa-miR-497-5p   \n..                             ...                            ...   \n261   score: 106 -- hsa-miR-363-3p   score: 105 -- hsa-miR-214-3p   \n262   score: 102 -- hsa-miR-19b-3p  score: 101 -- hsa-miR-4782-3p   \n263      score: 99 -- hsa-miR-3139     score: 98 -- hsa-miR-24-3p   \n264   score: 115 -- hsa-miR-874-3p  score: 114 -- hsa-miR-378a-3p   \n265  score: 112 -- hsa-miR-378a-3p   score: 108 -- hsa-miR-99b-5p   \n\n                                 6                              7  \\\n0      score: 89 -- hsa-miR-141-3p    score: 88 -- hsa-miR-874-3p   \n1       score: 110 -- hsa-miR-3139  score: 109 -- hsa-miR-1271-5p   \n2    score: 109 -- hsa-miR-1271-5p    score: 109 -- hsa-miR-24-3p   \n3      score: 115 -- hsa-miR-24-3p    score: 111 -- hsa-miR-17-5p   \n4     score: 109 -- hsa-miR-15b-5p      score: 106 -- hsa-miR-421   \n..                             ...                            ...   \n261  score: 105 -- hsa-miR-216a-5p   score: 105 -- hsa-miR-30d-5p   \n262    score: 99 -- hsa-miR-191-5p    score: 97 -- hsa-miR-214-3p   \n263   score: 97 -- hsa-miR-148b-3p   score: 95 -- hsa-miR-148a-3p   \n264  score: 112 -- hsa-miR-1271-5p  score: 111 -- hsa-miR-3619-5p   \n265     score: 106 -- hsa-miR-378c     score: 104 -- hsa-miR-378i   \n\n                                 8                              9  ...  \\\n0     score: 87 -- hsa-miR-200b-3p    score: 87 -- hsa-miR-10a-5p  ...   \n1      score: 106 -- hsa-miR-24-3p   score: 106 -- hsa-miR-372-3p  ...   \n2    score: 108 -- hsa-miR-193a-3p     score: 106 -- hsa-miR-3139  ...   \n3     score: 111 -- hsa-miR-210-3p  score: 109 -- hsa-miR-3619-5p  ...   \n4    score: 102 -- hsa-miR-103a-3p   score: 101 -- hsa-miR-153-3p  ...   \n..                             ...                            ...  ...   \n261   score: 105 -- hsa-miR-191-5p   score: 104 -- hsa-miR-425-5p  ...   \n262     score: 96 -- hsa-miR-24-3p    score: 96 -- hsa-miR-215-5p  ...   \n263    score: 95 -- hsa-miR-708-5p    score: 94 -- hsa-miR-214-3p  ...   \n264  score: 111 -- hsa-miR-193b-3p   score: 111 -- hsa-miR-99b-5p  ...   \n265  score: 103 -- hsa-miR-200c-3p   score: 103 -- hsa-miR-192-5p  ...   \n\n                              257                           258  \\\n0      score: 49 -- hsa-let-7b-5p      score: 49 -- hsa-miR-496   \n1     score: 57 -- hsa-miR-590-3p    score: 56 -- hsa-miR-98-5p   \n2       score: 58 -- hsa-miR-4458   score: 57 -- hsa-miR-590-3p   \n3     score: 67 -- hsa-miR-211-5p  score: 67 -- hsa-miR-450a-5p   \n4     score: 58 -- hsa-miR-328-3p      score: 57 -- hsa-miR-384   \n..                            ...                           ...   \n261     score: 50 -- hsa-miR-4295    score: 49 -- hsa-let-7f-5p   \n262    score: 50 -- hsa-let-7i-5p    score: 49 -- hsa-let-7a-5p   \n263  score: 49 -- hsa-miR-190a-5p     score: 48 -- hsa-miR-4500   \n264  score: 61 -- hsa-miR-450a-5p  score: 60 -- hsa-miR-135a-5p   \n265  score: 61 -- hsa-miR-135b-5p  score: 61 -- hsa-miR-450a-5p   \n\n                             259                           260  \\\n0      score: 48 -- hsa-miR-4295    score: 45 -- hsa-let-7i-5p   \n1      score: 55 -- hsa-miR-320d     score: 54 -- hsa-miR-320c   \n2     score: 57 -- hsa-let-7a-5p    score: 56 -- hsa-let-7c-5p   \n3     score: 66 -- hsa-miR-98-5p      score: 65 -- hsa-miR-384   \n4    score: 57 -- hsa-miR-149-5p   score: 57 -- hsa-miR-211-5p   \n..                           ...                           ...   \n261    score: 47 -- hsa-miR-4458    score: 45 -- hsa-miR-98-5p   \n262   score: 49 -- hsa-let-7e-5p  score: 49 -- hsa-miR-3529-5p   \n263   score: 48 -- hsa-miR-98-5p     score: 47 -- hsa-miR-320c   \n264   score: 60 -- hsa-let-7e-5p     score: 57 -- hsa-miR-4458   \n265    score: 60 -- hsa-miR-4500  score: 60 -- hsa-miR-135a-5p   \n\n                              261                           262  \\\n0       score: 44 -- hsa-miR-4500   score: 44 -- hsa-miR-590-3p   \n1       score: 54 -- hsa-miR-4500    score: 53 -- hsa-let-7a-5p   \n2       score: 55 -- hsa-miR-320c     score: 55 -- hsa-miR-320d   \n3     score: 65 -- hsa-miR-154-5p   score: 63 -- hsa-miR-296-3p   \n4        score: 56 -- hsa-miR-326      score: 56 -- hsa-miR-613   \n..                            ...                           ...   \n261    score: 42 -- hsa-let-7a-5p    score: 42 -- hsa-let-7c-5p   \n262     score: 46 -- hsa-miR-320c     score: 46 -- hsa-miR-320d   \n263  score: 47 -- hsa-miR-196b-5p  score: 45 -- hsa-miR-196a-5p   \n264     score: 57 -- hsa-miR-4500    score: 57 -- hsa-let-7f-5p   \n265   score: 58 -- hsa-miR-142-3p     score: 57 -- hsa-miR-4295   \n\n                              263                           264  \\\n0        score: 43 -- hsa-miR-613   score: 42 -- hsa-miR-488-3p   \n1      score: 53 -- hsa-let-7e-5p    score: 52 -- hsa-let-7c-5p   \n2       score: 54 -- hsa-miR-4500    score: 53 -- hsa-let-7e-5p   \n3      score: 63 -- hsa-let-7a-5p     score: 62 -- hsa-miR-4500   \n4     score: 54 -- hsa-miR-296-3p   score: 51 -- hsa-miR-590-3p   \n..                            ...                           ...   \n261    score: 42 -- hsa-let-7i-5p    score: 41 -- hsa-let-7e-5p   \n262  score: 45 -- hsa-miR-196a-5p    score: 44 -- hsa-let-7c-5p   \n263    score: 45 -- hsa-let-7a-5p    score: 45 -- hsa-let-7e-5p   \n264    score: 56 -- hsa-let-7a-5p    score: 55 -- hsa-miR-98-5p   \n265     score: 55 -- hsa-miR-302e  score: 55 -- hsa-miR-196a-5p   \n\n                              265                           266  \n0    score: 42 -- hsa-miR-450a-5p      score: 37 -- hsa-miR-599  \n1      score: 50 -- hsa-let-7b-5p  score: 49 -- hsa-miR-190a-5p  \n2      score: 51 -- hsa-let-7b-5p  score: 49 -- hsa-miR-190a-5p  \n3     score: 62 -- hsa-miR-590-3p  score: 62 -- hsa-miR-190a-5p  \n4     score: 49 -- hsa-miR-299-3p     score: 45 -- hsa-miR-4500  \n..                            ...                           ...  \n261    score: 39 -- hsa-let-7b-5p     score: 37 -- hsa-miR-4500  \n262  score: 44 -- hsa-miR-190a-5p    score: 39 -- hsa-let-7b-5p  \n263    score: 42 -- hsa-let-7c-5p    score: 38 -- hsa-let-7b-5p  \n264  score: 54 -- hsa-miR-190a-5p   score: 50 -- hsa-miR-590-3p  \n265   score: 53 -- hsa-miR-488-3p      score: 52 -- hsa-miR-613  \n\n[266 rows x 267 columns]",
      "text/html": "<div>\n<style scoped>\n    .dataframe tbody tr th:only-of-type {\n        vertical-align: middle;\n    }\n\n    .dataframe tbody tr th {\n        vertical-align: top;\n    }\n\n    .dataframe thead th {\n        text-align: right;\n    }\n</style>\n<table border=\"1\" class=\"dataframe\">\n  <thead>\n    <tr style=\"text-align: right;\">\n      <th></th>\n      <th>0</th>\n      <th>1</th>\n      <th>2</th>\n      <th>3</th>\n      <th>4</th>\n      <th>5</th>\n      <th>6</th>\n      <th>7</th>\n      <th>8</th>\n      <th>9</th>\n      <th>...</th>\n      <th>257</th>\n      <th>258</th>\n      <th>259</th>\n      <th>260</th>\n      <th>261</th>\n      <th>262</th>\n      <th>263</th>\n      <th>264</th>\n      <th>265</th>\n      <th>266</th>\n    </tr>\n  </thead>\n  <tbody>\n    <tr>\n      <th>0</th>\n      <td>hsa-miR-136-5p</td>\n      <td>score: 119 -- hsa-miR-136-5p</td>\n      <td>score: 105 -- hsa-miR-876-5p</td>\n      <td>score: 98 -- hsa-miR-200c-3p</td>\n      <td>score: 90 -- hsa-miR-22-3p</td>\n      <td>score: 90 -- hsa-miR-216b-5p</td>\n      <td>score: 89 -- hsa-miR-141-3p</td>\n      <td>score: 88 -- hsa-miR-874-3p</td>\n      <td>score: 87 -- hsa-miR-200b-3p</td>\n      <td>score: 87 -- hsa-miR-10a-5p</td>\n      <td>...</td>\n      <td>score: 49 -- hsa-let-7b-5p</td>\n      <td>score: 49 -- hsa-miR-496</td>\n      <td>score: 48 -- hsa-miR-4295</td>\n      <td>score: 45 -- hsa-let-7i-5p</td>\n      <td>score: 44 -- hsa-miR-4500</td>\n      <td>score: 44 -- hsa-miR-590-3p</td>\n      <td>score: 43 -- hsa-miR-613</td>\n      <td>score: 42 -- hsa-miR-488-3p</td>\n      <td>score: 42 -- hsa-miR-450a-5p</td>\n      <td>score: 37 -- hsa-miR-599</td>\n    </tr>\n    <tr>\n      <th>1</th>\n      <td>hsa-miR-148a-3p</td>\n      <td>score: 17499 -- hsa-miR-148a-3p</td>\n      <td>score: 139 -- hsa-miR-148b-3p</td>\n      <td>score: 130 -- hsa-miR-152-3p</td>\n      <td>score: 120 -- hsa-miR-214-3p</td>\n      <td>score: 111 -- hsa-miR-193a-3p</td>\n      <td>score: 110 -- hsa-miR-3139</td>\n      <td>score: 109 -- hsa-miR-1271-5p</td>\n      <td>score: 106 -- hsa-miR-24-3p</td>\n      <td>score: 106 -- hsa-miR-372-3p</td>\n      <td>...</td>\n      <td>score: 57 -- hsa-miR-590-3p</td>\n      <td>score: 56 -- hsa-miR-98-5p</td>\n      <td>score: 55 -- hsa-miR-320d</td>\n      <td>score: 54 -- hsa-miR-320c</td>\n      <td>score: 54 -- hsa-miR-4500</td>\n      <td>score: 53 -- hsa-let-7a-5p</td>\n      <td>score: 53 -- hsa-let-7e-5p</td>\n      <td>score: 52 -- hsa-let-7c-5p</td>\n      <td>score: 50 -- hsa-let-7b-5p</td>\n      <td>score: 49 -- hsa-miR-190a-5p</td>\n    </tr>\n    <tr>\n      <th>2</th>\n      <td>hsa-miR-148b-3p</td>\n      <td>score: 17496 -- hsa-miR-148a-3p</td>\n      <td>score: 143 -- hsa-miR-148b-3p</td>\n      <td>score: 126 -- hsa-miR-152-3p</td>\n      <td>score: 121 -- hsa-miR-214-3p</td>\n      <td>score: 111 -- hsa-miR-876-5p</td>\n      <td>score: 109 -- hsa-miR-1271-5p</td>\n      <td>score: 109 -- hsa-miR-24-3p</td>\n      <td>score: 108 -- hsa-miR-193a-3p</td>\n      <td>score: 106 -- hsa-miR-3139</td>\n      <td>...</td>\n      <td>score: 58 -- hsa-miR-4458</td>\n      <td>score: 57 -- hsa-miR-590-3p</td>\n      <td>score: 57 -- hsa-let-7a-5p</td>\n      <td>score: 56 -- hsa-let-7c-5p</td>\n      <td>score: 55 -- hsa-miR-320c</td>\n      <td>score: 55 -- hsa-miR-320d</td>\n      <td>score: 54 -- hsa-miR-4500</td>\n      <td>score: 53 -- hsa-let-7e-5p</td>\n      <td>score: 51 -- hsa-let-7b-5p</td>\n      <td>score: 49 -- hsa-miR-190a-5p</td>\n    </tr>\n    <tr>\n      <th>3</th>\n      <td>hsa-miR-152-3p</td>\n      <td>score: 12915 -- hsa-miR-148a-3p</td>\n      <td>score: 148 -- hsa-miR-152-3p</td>\n      <td>score: 126 -- hsa-miR-148b-3p</td>\n      <td>score: 123 -- hsa-miR-214-3p</td>\n      <td>score: 115 -- hsa-miR-378i</td>\n      <td>score: 115 -- hsa-miR-24-3p</td>\n      <td>score: 111 -- hsa-miR-17-5p</td>\n      <td>score: 111 -- hsa-miR-210-3p</td>\n      <td>score: 109 -- hsa-miR-3619-5p</td>\n      <td>...</td>\n      <td>score: 67 -- hsa-miR-211-5p</td>\n      <td>score: 67 -- hsa-miR-450a-5p</td>\n      <td>score: 66 -- hsa-miR-98-5p</td>\n      <td>score: 65 -- hsa-miR-384</td>\n      <td>score: 65 -- hsa-miR-154-5p</td>\n      <td>score: 63 -- hsa-miR-296-3p</td>\n      <td>score: 63 -- hsa-let-7a-5p</td>\n      <td>score: 62 -- hsa-miR-4500</td>\n      <td>score: 62 -- hsa-miR-590-3p</td>\n      <td>score: 62 -- hsa-miR-190a-5p</td>\n    </tr>\n    <tr>\n      <th>4</th>\n      <td>hsa-miR-15a-5p</td>\n      <td>score: 17488 -- hsa-miR-15a-5p</td>\n      <td>score: 118 -- hsa-miR-214-3p</td>\n      <td>score: 117 -- hsa-miR-16-5p</td>\n      <td>score: 113 -- hsa-miR-195-5p</td>\n      <td>score: 112 -- hsa-miR-497-5p</td>\n      <td>score: 109 -- hsa-miR-15b-5p</td>\n      <td>score: 106 -- hsa-miR-421</td>\n      <td>score: 102 -- hsa-miR-103a-3p</td>\n      <td>score: 101 -- hsa-miR-153-3p</td>\n      <td>...</td>\n      <td>score: 58 -- hsa-miR-328-3p</td>\n      <td>score: 57 -- hsa-miR-384</td>\n      <td>score: 57 -- hsa-miR-149-5p</td>\n      <td>score: 57 -- hsa-miR-211-5p</td>\n      <td>score: 56 -- hsa-miR-326</td>\n      <td>score: 56 -- hsa-miR-613</td>\n      <td>score: 54 -- hsa-miR-296-3p</td>\n      <td>score: 51 -- hsa-miR-590-3p</td>\n      <td>score: 49 -- hsa-miR-299-3p</td>\n      <td>score: 45 -- hsa-miR-4500</td>\n    </tr>\n    <tr>\n      <th>...</th>\n      <td>...</td>\n      <td>...</td>\n      <td>...</td>\n      <td>...</td>\n      <td>...</td>\n      <td>...</td>\n      <td>...</td>\n      <td>...</td>\n      <td>...</td>\n      <td>...</td>\n      <td>...</td>\n      <td>...</td>\n      <td>...</td>\n      <td>...</td>\n      <td>...</td>\n      <td>...</td>\n      <td>...</td>\n      <td>...</td>\n      <td>...</td>\n      <td>...</td>\n      <td>...</td>\n    </tr>\n    <tr>\n      <th>261</th>\n      <td>hsa-miR-451a</td>\n      <td>score: 141 -- hsa-miR-451a</td>\n      <td>score: 115 -- hsa-miR-100-5p</td>\n      <td>score: 108 -- hsa-miR-99a-5p</td>\n      <td>score: 106 -- hsa-miR-363-3p</td>\n      <td>score: 105 -- hsa-miR-214-3p</td>\n      <td>score: 105 -- hsa-miR-216a-5p</td>\n      <td>score: 105 -- hsa-miR-30d-5p</td>\n      <td>score: 105 -- hsa-miR-191-5p</td>\n      <td>score: 104 -- hsa-miR-425-5p</td>\n      <td>...</td>\n      <td>score: 50 -- hsa-miR-4295</td>\n      <td>score: 49 -- hsa-let-7f-5p</td>\n      <td>score: 47 -- hsa-miR-4458</td>\n      <td>score: 45 -- hsa-miR-98-5p</td>\n      <td>score: 42 -- hsa-let-7a-5p</td>\n      <td>score: 42 -- hsa-let-7c-5p</td>\n      <td>score: 42 -- hsa-let-7i-5p</td>\n      <td>score: 41 -- hsa-let-7e-5p</td>\n      <td>score: 39 -- hsa-let-7b-5p</td>\n      <td>score: 37 -- hsa-miR-4500</td>\n    </tr>\n    <tr>\n      <th>262</th>\n      <td>hsa-miR-219a-5p</td>\n      <td>score: 17479 -- hsa-miR-876-5p</td>\n      <td>score: 134 -- hsa-miR-219a-5p</td>\n      <td>score: 102 -- hsa-miR-19a-3p</td>\n      <td>score: 102 -- hsa-miR-19b-3p</td>\n      <td>score: 101 -- hsa-miR-4782-3p</td>\n      <td>score: 99 -- hsa-miR-191-5p</td>\n      <td>score: 97 -- hsa-miR-214-3p</td>\n      <td>score: 96 -- hsa-miR-24-3p</td>\n      <td>score: 96 -- hsa-miR-215-5p</td>\n      <td>...</td>\n      <td>score: 50 -- hsa-let-7i-5p</td>\n      <td>score: 49 -- hsa-let-7a-5p</td>\n      <td>score: 49 -- hsa-let-7e-5p</td>\n      <td>score: 49 -- hsa-miR-3529-5p</td>\n      <td>score: 46 -- hsa-miR-320c</td>\n      <td>score: 46 -- hsa-miR-320d</td>\n      <td>score: 45 -- hsa-miR-196a-5p</td>\n      <td>score: 44 -- hsa-let-7c-5p</td>\n      <td>score: 44 -- hsa-miR-190a-5p</td>\n      <td>score: 39 -- hsa-let-7b-5p</td>\n    </tr>\n    <tr>\n      <th>263</th>\n      <td>hsa-miR-4782-3p</td>\n      <td>score: 21540 -- hsa-miR-876-5p</td>\n      <td>score: 121 -- hsa-miR-4782-3p</td>\n      <td>score: 101 -- hsa-miR-219a-5p</td>\n      <td>score: 99 -- hsa-miR-3139</td>\n      <td>score: 98 -- hsa-miR-24-3p</td>\n      <td>score: 97 -- hsa-miR-148b-3p</td>\n      <td>score: 95 -- hsa-miR-148a-3p</td>\n      <td>score: 95 -- hsa-miR-708-5p</td>\n      <td>score: 94 -- hsa-miR-214-3p</td>\n      <td>...</td>\n      <td>score: 49 -- hsa-miR-190a-5p</td>\n      <td>score: 48 -- hsa-miR-4500</td>\n      <td>score: 48 -- hsa-miR-98-5p</td>\n      <td>score: 47 -- hsa-miR-320c</td>\n      <td>score: 47 -- hsa-miR-196b-5p</td>\n      <td>score: 45 -- hsa-miR-196a-5p</td>\n      <td>score: 45 -- hsa-let-7a-5p</td>\n      <td>score: 45 -- hsa-let-7e-5p</td>\n      <td>score: 42 -- hsa-let-7c-5p</td>\n      <td>score: 38 -- hsa-let-7b-5p</td>\n    </tr>\n    <tr>\n      <th>264</th>\n      <td>hsa-miR-127-3p</td>\n      <td>score: 17488 -- hsa-miR-876-5p</td>\n      <td>score: 155 -- hsa-miR-127-3p</td>\n      <td>score: 118 -- hsa-miR-191-5p</td>\n      <td>score: 115 -- hsa-miR-874-3p</td>\n      <td>score: 114 -- hsa-miR-378a-3p</td>\n      <td>score: 112 -- hsa-miR-1271-5p</td>\n      <td>score: 111 -- hsa-miR-3619-5p</td>\n      <td>score: 111 -- hsa-miR-193b-3p</td>\n      <td>score: 111 -- hsa-miR-99b-5p</td>\n      <td>...</td>\n      <td>score: 61 -- hsa-miR-450a-5p</td>\n      <td>score: 60 -- hsa-miR-135a-5p</td>\n      <td>score: 60 -- hsa-let-7e-5p</td>\n      <td>score: 57 -- hsa-miR-4458</td>\n      <td>score: 57 -- hsa-miR-4500</td>\n      <td>score: 57 -- hsa-let-7f-5p</td>\n      <td>score: 56 -- hsa-let-7a-5p</td>\n      <td>score: 55 -- hsa-miR-98-5p</td>\n      <td>score: 54 -- hsa-miR-190a-5p</td>\n      <td>score: 50 -- hsa-miR-590-3p</td>\n    </tr>\n    <tr>\n      <th>265</th>\n      <td>hsa-miR-126-3p</td>\n      <td>score: 15456 -- hsa-miR-876-5p</td>\n      <td>score: 148 -- hsa-miR-126-3p</td>\n      <td>score: 114 -- hsa-miR-490-3p</td>\n      <td>score: 112 -- hsa-miR-378a-3p</td>\n      <td>score: 108 -- hsa-miR-99b-5p</td>\n      <td>score: 106 -- hsa-miR-378c</td>\n      <td>score: 104 -- hsa-miR-378i</td>\n      <td>score: 103 -- hsa-miR-200c-3p</td>\n      <td>score: 103 -- hsa-miR-192-5p</td>\n      <td>...</td>\n      <td>score: 61 -- hsa-miR-135b-5p</td>\n      <td>score: 61 -- hsa-miR-450a-5p</td>\n      <td>score: 60 -- hsa-miR-4500</td>\n      <td>score: 60 -- hsa-miR-135a-5p</td>\n      <td>score: 58 -- hsa-miR-142-3p</td>\n      <td>score: 57 -- hsa-miR-4295</td>\n      <td>score: 55 -- hsa-miR-302e</td>\n      <td>score: 55 -- hsa-miR-196a-5p</td>\n      <td>score: 53 -- hsa-miR-488-3p</td>\n      <td>score: 52 -- hsa-miR-613</td>\n    </tr>\n  </tbody>\n</table>\n<p>266 rows × 267 columns</p>\n</div>"
     },
     "execution_count": 51,
     "metadata": {},
     "output_type": "execute_result"
    }
   ],
   "source": [
    "import pandas as pd\n",
    "import re\n",
    "path = r'D:\\潘子祺Workspace\\Python\\复现LMIINGI\\cudasw++\\qprf1_mirna_sw.csv'\n",
    "\n",
    "smith_df = pd.read_csv(path)\n",
    "# smith_df = smith_df.set_index(['0'])\n",
    "text = smith_df['1'][3]\n",
    "print(text)\n",
    "rna = text.split(' -- ')[1]\n",
    "score = int(re.findall('\\d+', text.split(' -- ')[0])[0])\n",
    "print(rna, score)\n",
    "smith_df"
   ],
   "metadata": {
    "collapsed": false,
    "pycharm": {
     "name": "#%%\n"
    }
   }
  },
  {
   "cell_type": "code",
   "execution_count": 35,
   "outputs": [
    {
     "data": {
      "text/plain": "                 index  id\nname                      \nhsa-miR-136-5p       0  NA\nhsa-miR-148a-3p      1  NA\nhsa-miR-148b-3p      2  NA\nhsa-miR-152-3p       3  NA\nhsa-miR-15a-5p       4  NA\n...                ...  ..\nhsa-miR-451a       261  NA\nhsa-miR-219a-5p    262  NA\nhsa-miR-4782-3p    263  NA\nhsa-miR-127-3p     264  NA\nhsa-miR-126-3p     265  NA\n\n[266 rows x 2 columns]",
      "text/html": "<div>\n<style scoped>\n    .dataframe tbody tr th:only-of-type {\n        vertical-align: middle;\n    }\n\n    .dataframe tbody tr th {\n        vertical-align: top;\n    }\n\n    .dataframe thead th {\n        text-align: right;\n    }\n</style>\n<table border=\"1\" class=\"dataframe\">\n  <thead>\n    <tr style=\"text-align: right;\">\n      <th></th>\n      <th>index</th>\n      <th>id</th>\n    </tr>\n    <tr>\n      <th>name</th>\n      <th></th>\n      <th></th>\n    </tr>\n  </thead>\n  <tbody>\n    <tr>\n      <th>hsa-miR-136-5p</th>\n      <td>0</td>\n      <td>NA</td>\n    </tr>\n    <tr>\n      <th>hsa-miR-148a-3p</th>\n      <td>1</td>\n      <td>NA</td>\n    </tr>\n    <tr>\n      <th>hsa-miR-148b-3p</th>\n      <td>2</td>\n      <td>NA</td>\n    </tr>\n    <tr>\n      <th>hsa-miR-152-3p</th>\n      <td>3</td>\n      <td>NA</td>\n    </tr>\n    <tr>\n      <th>hsa-miR-15a-5p</th>\n      <td>4</td>\n      <td>NA</td>\n    </tr>\n    <tr>\n      <th>...</th>\n      <td>...</td>\n      <td>...</td>\n    </tr>\n    <tr>\n      <th>hsa-miR-451a</th>\n      <td>261</td>\n      <td>NA</td>\n    </tr>\n    <tr>\n      <th>hsa-miR-219a-5p</th>\n      <td>262</td>\n      <td>NA</td>\n    </tr>\n    <tr>\n      <th>hsa-miR-4782-3p</th>\n      <td>263</td>\n      <td>NA</td>\n    </tr>\n    <tr>\n      <th>hsa-miR-127-3p</th>\n      <td>264</td>\n      <td>NA</td>\n    </tr>\n    <tr>\n      <th>hsa-miR-126-3p</th>\n      <td>265</td>\n      <td>NA</td>\n    </tr>\n  </tbody>\n</table>\n<p>266 rows × 2 columns</p>\n</div>"
     },
     "execution_count": 35,
     "metadata": {},
     "output_type": "execute_result"
    }
   ],
   "source": [
    "rna_df = pd.DataFrame()\n",
    "rna_df['name'] = smith_df['0']\n",
    "rna_df['index'] = list(range(0,266))\n",
    "rna_df['id'] = 'NA'\n",
    "rna_df = rna_df.set_index(['name'])\n",
    "rna_df"
   ],
   "metadata": {
    "collapsed": false,
    "pycharm": {
     "name": "#%%\n"
    }
   }
  },
  {
   "cell_type": "code",
   "execution_count": 50,
   "outputs": [
    {
     "data": {
      "text/plain": "     0    1    2    3    4    5    6    7    8    9    ...  256  257  258  \\\n0      0    0    0    0    0    0    0    0    0    0  ...    0    0    0   \n1      0    0    0    0    0    0    0    0    0    0  ...    0    0    0   \n2      0    0    0    0    0    0    0    0    0    0  ...    0    0    0   \n3      0    0    0    0    0    0    0    0    0    0  ...    0    0    0   \n4      0    0    0    0    0    0    0    0    0    0  ...    0    0    0   \n..   ...  ...  ...  ...  ...  ...  ...  ...  ...  ...  ...  ...  ...  ...   \n261    0    0    0    0    0    0    0    0    0    0  ...    0    0    0   \n262    0    0    0    0    0    0    0    0    0    0  ...    0    0    0   \n263    0    0    0    0    0    0    0    0    0    0  ...    0    0    0   \n264    0    0    0    0    0    0    0    0    0    0  ...    0    0    0   \n265    0    0    0    0    0    0    0    0    0    0  ...    0    0    0   \n\n     259  260  261  262  263  264  265  \n0      0    0    0    0    0    0    0  \n1      0    0    0    0    0    0    0  \n2      0    0    0    0    0    0    0  \n3      0    0    0    0    0    0    0  \n4      0    0    0    0    0    0    0  \n..   ...  ...  ...  ...  ...  ...  ...  \n261    0    0    0    0    0    0    0  \n262    0    0    0    0    0    0    0  \n263    0    0    0    0    0    0    0  \n264    0    0    0    0    0    0    0  \n265    0    0    0    0    0    0    0  \n\n[266 rows x 266 columns]",
      "text/html": "<div>\n<style scoped>\n    .dataframe tbody tr th:only-of-type {\n        vertical-align: middle;\n    }\n\n    .dataframe tbody tr th {\n        vertical-align: top;\n    }\n\n    .dataframe thead th {\n        text-align: right;\n    }\n</style>\n<table border=\"1\" class=\"dataframe\">\n  <thead>\n    <tr style=\"text-align: right;\">\n      <th></th>\n      <th>0</th>\n      <th>1</th>\n      <th>2</th>\n      <th>3</th>\n      <th>4</th>\n      <th>5</th>\n      <th>6</th>\n      <th>7</th>\n      <th>8</th>\n      <th>9</th>\n      <th>...</th>\n      <th>256</th>\n      <th>257</th>\n      <th>258</th>\n      <th>259</th>\n      <th>260</th>\n      <th>261</th>\n      <th>262</th>\n      <th>263</th>\n      <th>264</th>\n      <th>265</th>\n    </tr>\n  </thead>\n  <tbody>\n    <tr>\n      <th>0</th>\n      <td>0</td>\n      <td>0</td>\n      <td>0</td>\n      <td>0</td>\n      <td>0</td>\n      <td>0</td>\n      <td>0</td>\n      <td>0</td>\n      <td>0</td>\n      <td>0</td>\n      <td>...</td>\n      <td>0</td>\n      <td>0</td>\n      <td>0</td>\n      <td>0</td>\n      <td>0</td>\n      <td>0</td>\n      <td>0</td>\n      <td>0</td>\n      <td>0</td>\n      <td>0</td>\n    </tr>\n    <tr>\n      <th>1</th>\n      <td>0</td>\n      <td>0</td>\n      <td>0</td>\n      <td>0</td>\n      <td>0</td>\n      <td>0</td>\n      <td>0</td>\n      <td>0</td>\n      <td>0</td>\n      <td>0</td>\n      <td>...</td>\n      <td>0</td>\n      <td>0</td>\n      <td>0</td>\n      <td>0</td>\n      <td>0</td>\n      <td>0</td>\n      <td>0</td>\n      <td>0</td>\n      <td>0</td>\n      <td>0</td>\n    </tr>\n    <tr>\n      <th>2</th>\n      <td>0</td>\n      <td>0</td>\n      <td>0</td>\n      <td>0</td>\n      <td>0</td>\n      <td>0</td>\n      <td>0</td>\n      <td>0</td>\n      <td>0</td>\n      <td>0</td>\n      <td>...</td>\n      <td>0</td>\n      <td>0</td>\n      <td>0</td>\n      <td>0</td>\n      <td>0</td>\n      <td>0</td>\n      <td>0</td>\n      <td>0</td>\n      <td>0</td>\n      <td>0</td>\n    </tr>\n    <tr>\n      <th>3</th>\n      <td>0</td>\n      <td>0</td>\n      <td>0</td>\n      <td>0</td>\n      <td>0</td>\n      <td>0</td>\n      <td>0</td>\n      <td>0</td>\n      <td>0</td>\n      <td>0</td>\n      <td>...</td>\n      <td>0</td>\n      <td>0</td>\n      <td>0</td>\n      <td>0</td>\n      <td>0</td>\n      <td>0</td>\n      <td>0</td>\n      <td>0</td>\n      <td>0</td>\n      <td>0</td>\n    </tr>\n    <tr>\n      <th>4</th>\n      <td>0</td>\n      <td>0</td>\n      <td>0</td>\n      <td>0</td>\n      <td>0</td>\n      <td>0</td>\n      <td>0</td>\n      <td>0</td>\n      <td>0</td>\n      <td>0</td>\n      <td>...</td>\n      <td>0</td>\n      <td>0</td>\n      <td>0</td>\n      <td>0</td>\n      <td>0</td>\n      <td>0</td>\n      <td>0</td>\n      <td>0</td>\n      <td>0</td>\n      <td>0</td>\n    </tr>\n    <tr>\n      <th>...</th>\n      <td>...</td>\n      <td>...</td>\n      <td>...</td>\n      <td>...</td>\n      <td>...</td>\n      <td>...</td>\n      <td>...</td>\n      <td>...</td>\n      <td>...</td>\n      <td>...</td>\n      <td>...</td>\n      <td>...</td>\n      <td>...</td>\n      <td>...</td>\n      <td>...</td>\n      <td>...</td>\n      <td>...</td>\n      <td>...</td>\n      <td>...</td>\n      <td>...</td>\n      <td>...</td>\n    </tr>\n    <tr>\n      <th>261</th>\n      <td>0</td>\n      <td>0</td>\n      <td>0</td>\n      <td>0</td>\n      <td>0</td>\n      <td>0</td>\n      <td>0</td>\n      <td>0</td>\n      <td>0</td>\n      <td>0</td>\n      <td>...</td>\n      <td>0</td>\n      <td>0</td>\n      <td>0</td>\n      <td>0</td>\n      <td>0</td>\n      <td>0</td>\n      <td>0</td>\n      <td>0</td>\n      <td>0</td>\n      <td>0</td>\n    </tr>\n    <tr>\n      <th>262</th>\n      <td>0</td>\n      <td>0</td>\n      <td>0</td>\n      <td>0</td>\n      <td>0</td>\n      <td>0</td>\n      <td>0</td>\n      <td>0</td>\n      <td>0</td>\n      <td>0</td>\n      <td>...</td>\n      <td>0</td>\n      <td>0</td>\n      <td>0</td>\n      <td>0</td>\n      <td>0</td>\n      <td>0</td>\n      <td>0</td>\n      <td>0</td>\n      <td>0</td>\n      <td>0</td>\n    </tr>\n    <tr>\n      <th>263</th>\n      <td>0</td>\n      <td>0</td>\n      <td>0</td>\n      <td>0</td>\n      <td>0</td>\n      <td>0</td>\n      <td>0</td>\n      <td>0</td>\n      <td>0</td>\n      <td>0</td>\n      <td>...</td>\n      <td>0</td>\n      <td>0</td>\n      <td>0</td>\n      <td>0</td>\n      <td>0</td>\n      <td>0</td>\n      <td>0</td>\n      <td>0</td>\n      <td>0</td>\n      <td>0</td>\n    </tr>\n    <tr>\n      <th>264</th>\n      <td>0</td>\n      <td>0</td>\n      <td>0</td>\n      <td>0</td>\n      <td>0</td>\n      <td>0</td>\n      <td>0</td>\n      <td>0</td>\n      <td>0</td>\n      <td>0</td>\n      <td>...</td>\n      <td>0</td>\n      <td>0</td>\n      <td>0</td>\n      <td>0</td>\n      <td>0</td>\n      <td>0</td>\n      <td>0</td>\n      <td>0</td>\n      <td>0</td>\n      <td>0</td>\n    </tr>\n    <tr>\n      <th>265</th>\n      <td>0</td>\n      <td>0</td>\n      <td>0</td>\n      <td>0</td>\n      <td>0</td>\n      <td>0</td>\n      <td>0</td>\n      <td>0</td>\n      <td>0</td>\n      <td>0</td>\n      <td>...</td>\n      <td>0</td>\n      <td>0</td>\n      <td>0</td>\n      <td>0</td>\n      <td>0</td>\n      <td>0</td>\n      <td>0</td>\n      <td>0</td>\n      <td>0</td>\n      <td>0</td>\n    </tr>\n  </tbody>\n</table>\n<p>266 rows × 266 columns</p>\n</div>"
     },
     "execution_count": 50,
     "metadata": {},
     "output_type": "execute_result"
    }
   ],
   "source": [
    "import numpy as np\n",
    "num = 266\n",
    "mat_df = pd.DataFrame(np.arange(num*num).reshape(num, num)).applymap(lambda x : 0)\n",
    "\n",
    "mat_df"
   ],
   "metadata": {
    "collapsed": false,
    "pycharm": {
     "name": "#%%\n"
    }
   }
  },
  {
   "cell_type": "code",
   "execution_count": 19,
   "outputs": [
    {
     "name": "stdout",
     "output_type": "stream",
     "text": [
      "ewni1fjweoij\n"
     ]
    }
   ],
   "source": [
    "print('ewni%sfjweoij'%1)"
   ],
   "metadata": {
    "collapsed": false,
    "pycharm": {
     "name": "#%%\n"
    }
   }
  }
 ],
 "metadata": {
  "kernelspec": {
   "name": "pycharm-3d1a1bce",
   "language": "python",
   "display_name": "PyCharm (RIGNN_LncRNASNP2_rm_valedge_graph)"
  },
  "language_info": {
   "codemirror_mode": {
    "name": "ipython",
    "version": 2
   },
   "file_extension": ".py",
   "mimetype": "text/x-python",
   "name": "python",
   "nbconvert_exporter": "python",
   "pygments_lexer": "ipython2",
   "version": "2.7.6"
  }
 },
 "nbformat": 4,
 "nbformat_minor": 0
}